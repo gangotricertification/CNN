{
 "cells": [
  {
   "cell_type": "code",
   "execution_count": 1,
   "metadata": {},
   "outputs": [],
   "source": [
    "import numpy as np\n",
    "import cv2\n",
    "import pandas as pd"
   ]
  },
  {
   "cell_type": "code",
   "execution_count": 7,
   "metadata": {},
   "outputs": [
    {
     "name": "stdout",
     "output_type": "stream",
     "text": [
      "(720, 720, 3)\n"
     ]
    }
   ],
   "source": [
    "im=cv2.imread(r\"E:\\photos\\11.jpg\")   #taken image as input\n",
    "im2=cv2.resize(im,(720,720))         #resize image according to comfortability\n",
    "im2=im2/255                          #normalize the image\n",
    "im2=np.array(im2)                    #convert image in numpy array for operations\n",
    "r1=(im2[:,:,0])                      #taken out R from RBG because its 3d dimensional\n",
    "r2=(im2[:,:,1])                      #taken out R from RBG because its 3d dimensional\n",
    "r3=(im2[:,:,2])                      #taken out R from RBG because its 3d dimensional\n",
    "shape=im2.shape"
   ]
  },
  {
   "cell_type": "code",
   "execution_count": 22,
   "metadata": {},
   "outputs": [],
   "source": [
    "kernel=np.array([[0,-1,0],[-1,5,-1],[0,-1,0]])        #DEFINE kernel to apply on image for shapening\n",
    "ed1=[]                                                #three different list to store value where kernel or filter is applied\n",
    "ed2=[]\n",
    "ed3=[]\n",
    "\n",
    "#---------------applied filter on all three lists------------------------\n",
    "\n",
    "for i in range(0,shape[0]-2):\n",
    "    for j in range(0,shape[1]-2):\n",
    "        ed1.append(r1[i][j]*kernel[0][0]+r1[i][j+1]*kernel[0][1]+r1[i][j+2]*kernel[0][2]+\n",
    "                  r1[i+1][j]*kernel[1][0]+r1[i+1][j+1]*kernel[1][1]+r1[i+1][j+2]*kernel[1][2]+\n",
    "                  r1[i+2][j]*kernel[2][0]+r1[i+2][j+1]*kernel[2][1]+r1[i+2][j+2]*kernel[2][2])\n",
    "for i in range(0,shape[0]-2):\n",
    "    for j in range(0,shape[1]-2):\n",
    "        ed2.append(r2[i][j]*kernel[0][0]+r2[i][j+1]*kernel[0][1]+r2[i][j+2]*kernel[0][2]+\n",
    "                  r2[i+1][j]*kernel[1][0]+r2[i+1][j+1]*kernel[1][1]+r2[i+1][j+2]*kernel[1][2]+\n",
    "                  r2[i+2][j]*kernel[2][0]+r2[i+2][j+1]*kernel[2][1]+r2[i+2][j+2]*kernel[2][2])\n",
    "for i in range(0,shape[0]-2):\n",
    "    for j in range(0,shape[1]-2):\n",
    "        ed3.append(r3[i][j]*kernel[0][0]+r3[i][j+1]*kernel[0][1]+r3[i][j+2]*kernel[0][2]+\n",
    "                  r3[i+1][j]*kernel[1][0]+r3[i+1][j+1]*kernel[1][1]+r3[i+1][j+2]*kernel[1][2]+\n",
    "                  r3[i+2][j]*kernel[2][0]+r3[i+2][j+1]*kernel[2][1]+r3[i+2][j+2]*kernel[2][2])\n",
    "\n",
    "\n",
    "ed1=np.array(ed1)                  #convert lists intonumpy array to apply further operations\n",
    "ed1=ed1.reshape(1,len(ed1))        #reshape it into 2d (1,len(ed1))\n",
    "\n",
    "ed2=np.array(ed2)\n",
    "ed2=ed2.reshape(1,len(ed2))\n",
    "\n",
    "ed3=np.array(ed3)\n",
    "ed3=ed3.reshape(1,len(ed3))"
   ]
  },
  {
   "cell_type": "code",
   "execution_count": 38,
   "metadata": {},
   "outputs": [
    {
     "name": "stdout",
     "output_type": "stream",
     "text": [
      "[[[ 0.03921569  0.62352941  0.68627451]\n",
      "  [ 1.01176471  0.85882353  0.75294118]\n",
      "  [-0.27843137 -0.12941176  0.07843137]\n",
      "  ...\n",
      "  [ 0.25490196  0.16862745  0.1372549 ]\n",
      "  [ 0.18431373  0.19607843  0.18039216]\n",
      "  [ 0.23529412  0.18823529  0.20392157]]\n",
      "\n",
      " [[ 0.34901961  0.78431373  0.84705882]\n",
      "  [ 1.17647059  0.91764706  0.81176471]\n",
      "  [-0.14901961 -0.1372549   0.20392157]\n",
      "  ...\n",
      "  [ 0.2745098   0.19215686  0.16078431]\n",
      "  [ 0.23921569  0.22352941  0.21568627]\n",
      "  [ 0.17647059  0.15294118  0.13333333]]\n",
      "\n",
      " [[ 0.03921569  0.07843137 -0.12156863]\n",
      "  [-0.16470588 -0.21568627 -0.20392157]\n",
      "  [ 0.25490196  0.23137255  0.58823529]\n",
      "  ...\n",
      "  [ 0.2745098   0.19215686  0.16078431]\n",
      "  [ 0.20784314  0.19607843  0.18823529]\n",
      "  [ 0.21176471  0.18431373  0.17647059]]\n",
      "\n",
      " ...\n",
      "\n",
      " [[ 0.23137255  0.21568627  0.28627451]\n",
      "  [ 0.25098039  0.23529412  0.30980392]\n",
      "  [ 0.28627451  0.27058824  0.34509804]\n",
      "  ...\n",
      "  [ 0.27843137  0.24313725  0.30196078]\n",
      "  [ 0.27843137  0.21568627  0.30196078]\n",
      "  [ 0.22352941  0.23921569  0.2745098 ]]\n",
      "\n",
      " [[ 0.2745098   0.25882353  0.35294118]\n",
      "  [ 0.30980392  0.29411765  0.36470588]\n",
      "  [ 0.24705882  0.23137255  0.30588235]\n",
      "  ...\n",
      "  [ 0.2745098   0.2745098   0.3254902 ]\n",
      "  [ 0.28627451  0.24313725  0.29019608]\n",
      "  [ 0.27843137  0.26666667  0.32156863]]\n",
      "\n",
      " [[ 0.27058824  0.25882353  0.32941176]\n",
      "  [ 0.24313725  0.22745098  0.30196078]\n",
      "  [ 0.24705882  0.23137255  0.30588235]\n",
      "  ...\n",
      "  [ 0.27843137  0.24313725  0.30196078]\n",
      "  [ 0.31764706  0.29019608  0.34901961]\n",
      "  [ 0.30196078  0.26666667  0.32941176]]]\n"
     ]
    },
    {
     "data": {
      "text/plain": [
       "-1"
      ]
     },
     "execution_count": 38,
     "metadata": {},
     "output_type": "execute_result"
    }
   ],
   "source": [
    "\n",
    "new=np.concatenate((ed1,ed2,ed3),axis=0)                   #now concatenate or merge all three arrays in one  \n",
    "new=new.T                                         #take transpose of new to get 3 layered arrayed like in rbg but still its in 2d\n",
    "new_image=new.reshape(718,718,3)                  #convert from 2d to 3d\n",
    "cv2.imshow(\"sharpen 3d image using kernel\",new_image)     #sharpen image is formed\n",
    "cv2.waitKey(0)"
   ]
  },
  {
   "cell_type": "code",
   "execution_count": null,
   "metadata": {},
   "outputs": [],
   "source": []
  },
  {
   "cell_type": "code",
   "execution_count": null,
   "metadata": {},
   "outputs": [],
   "source": []
  }
 ],
 "metadata": {
  "kernelspec": {
   "display_name": "Python 3",
   "language": "python",
   "name": "python3"
  },
  "language_info": {
   "codemirror_mode": {
    "name": "ipython",
    "version": 3
   },
   "file_extension": ".py",
   "mimetype": "text/x-python",
   "name": "python",
   "nbconvert_exporter": "python",
   "pygments_lexer": "ipython3",
   "version": "3.5.6"
  }
 },
 "nbformat": 4,
 "nbformat_minor": 2
}
