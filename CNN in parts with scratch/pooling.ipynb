{
 "cells": [
  {
   "cell_type": "code",
   "execution_count": 9,
   "metadata": {},
   "outputs": [],
   "source": [
    "import numpy as np\n",
    "import cv2"
   ]
  },
  {
   "cell_type": "code",
   "execution_count": 10,
   "metadata": {},
   "outputs": [
    {
     "name": "stdout",
     "output_type": "stream",
     "text": [
      "(720, 720)\n",
      "720\n"
     ]
    }
   ],
   "source": [
    "im=cv2.imread(r\"E:\\photos\\11.jpg\")           #taken image as input\n",
    "im2=cv2.resize(im,(720,720))                 #resize image according to comfortability\n",
    "im2=cv2.cvtColor(im2,cv2.COLOR_BGR2GRAY)     #convert to gray scale to apply filter\n",
    "im2=im2/255                                  #normalize the image\n",
    "print(im2.shape)\n",
    "shape=im2.shape\n",
    "print(shape[1])"
   ]
  },
  {
   "cell_type": "code",
   "execution_count": 11,
   "metadata": {},
   "outputs": [
    {
     "data": {
      "text/plain": [
       "-1"
      ]
     },
     "execution_count": 11,
     "metadata": {},
     "output_type": "execute_result"
    }
   ],
   "source": [
    "cv2.imshow(\"sd\",im2)\n",
    "cv2.waitKey(0)"
   ]
  },
  {
   "cell_type": "code",
   "execution_count": 25,
   "metadata": {},
   "outputs": [],
   "source": [
    "pol=[]                                      #create the list to store pooled values\n",
    "for i in range(0,shape[0]-2):               #here, we applied max pool\n",
    "    for j in range(0,shape[1]-2):\n",
    "        qw=[]\n",
    "        qw.append((im2[i][j],im2[i][j+1],im2[i][j+2],\n",
    "                  im2[i+1][j],im2[i+1][j+1],im2[i+1][j+2],\n",
    "                  im2[i+2][j],im2[i+2][j+1],im2[i+2][j+2]))\n",
    "        pol.append(max(qw[0]))\n",
    "pol=np.array(pol)\n",
    "pol=pol.reshape(shape[0]-2,shape[0]-2)"
   ]
  },
  {
   "cell_type": "code",
   "execution_count": 26,
   "metadata": {},
   "outputs": [
    {
     "data": {
      "text/plain": [
       "-1"
      ]
     },
     "execution_count": 26,
     "metadata": {},
     "output_type": "execute_result"
    }
   ],
   "source": [
    "cv2.imshow(\"pooling image\",pol)\n",
    "cv2.waitKey(0)"
   ]
  },
  {
   "cell_type": "code",
   "execution_count": null,
   "metadata": {},
   "outputs": [],
   "source": []
  }
 ],
 "metadata": {
  "kernelspec": {
   "display_name": "Python 3",
   "language": "python",
   "name": "python3"
  },
  "language_info": {
   "codemirror_mode": {
    "name": "ipython",
    "version": 3
   },
   "file_extension": ".py",
   "mimetype": "text/x-python",
   "name": "python",
   "nbconvert_exporter": "python",
   "pygments_lexer": "ipython3",
   "version": "3.5.6"
  }
 },
 "nbformat": 4,
 "nbformat_minor": 2
}
