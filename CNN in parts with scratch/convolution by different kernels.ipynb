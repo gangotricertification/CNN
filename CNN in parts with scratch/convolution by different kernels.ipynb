{
 "cells": [
  {
   "cell_type": "code",
   "execution_count": 1,
   "metadata": {},
   "outputs": [],
   "source": [
    "import numpy as np\n",
    "import cv2"
   ]
  },
  {
   "cell_type": "code",
   "execution_count": 2,
   "metadata": {},
   "outputs": [
    {
     "name": "stdout",
     "output_type": "stream",
     "text": [
      "(720, 720)\n",
      "720\n"
     ]
    }
   ],
   "source": [
    "im=cv2.imread(r\"E:\\photos\\11.jpg\")                     #taken image as input\n",
    "im2=cv2.resize(im,(720,720))                            #resize image according to comfortability\n",
    "im2=cv2.cvtColor(im2,cv2.COLOR_BGR2GRAY)             #convert to gray scale to apply filter\n",
    "im2=im2/255                                         #normalize the image\n",
    "print(im2.shape)\n",
    "shape=im2.shape                                     #find shape\n",
    "print(shape[1])"
   ]
  },
  {
   "cell_type": "code",
   "execution_count": 3,
   "metadata": {},
   "outputs": [
    {
     "data": {
      "text/plain": [
       "-1"
      ]
     },
     "execution_count": 3,
     "metadata": {},
     "output_type": "execute_result"
    }
   ],
   "source": [
    "cv2.imshow(\"sd\",im2)\n",
    "cv2.waitKey(0)\n"
   ]
  },
  {
   "cell_type": "code",
   "execution_count": 4,
   "metadata": {},
   "outputs": [],
   "source": [
    "kernel=np.array([[-1,-1,-1],[-1,8,-1],[-1,-1,-1]])              #create the kernel or filter to apply\n",
    "kernel1=np.array([[0,-1,0],[-1,5,-1],[0,-1,0]])\n",
    "kernel2=np.array([[1,2,1],[2,4,2],[1,2,1]])/16\n",
    "kernel3=np.array([[0,1,0],[1,-4,1],[0,1,0]])\n",
    "\n",
    "\n"
   ]
  },
  {
   "cell_type": "code",
   "execution_count": 5,
   "metadata": {},
   "outputs": [],
   "source": [
    "ed1=[]                             #make list to append all values after filter applied\n",
    "for i in range(0,shape[0]-2):\n",
    "    for j in range(0,shape[1]-2):\n",
    "        ed1.append(im2[i][j]*kernel[0][0]+im2[i][j+1]*kernel[0][1]+im2[i][j+2]*kernel[0][2]+\n",
    "                  im2[i+1][j]*kernel[1][0]+im2[i+1][j+1]*kernel[1][1]+im2[i+1][j+2]*kernel[1][2]+\n",
    "                  im2[i+2][j]*kernel[2][0]+im2[i+2][j+1]*kernel[2][1]+im2[i+2][j+2]*kernel[2][2])\n",
    "\n",
    "ed1=np.array(ed1)                                 #again convert it into numpy array for operations to apply\n",
    "ed1=ed1.reshape(shape[0]-2,shape[1]-2)            #reshape the image into usual 2d form   these steps fpr all\n",
    "cv2.imshow(\"convolve edgy image\",ed1)\n",
    "cv2.waitKey(1)"
   ]
  },
  {
   "cell_type": "code",
   "execution_count": null,
   "metadata": {},
   "outputs": [],
   "source": []
  },
  {
   "cell_type": "code",
   "execution_count": 8,
   "metadata": {},
   "outputs": [
    {
     "data": {
      "text/plain": [
       "-1"
      ]
     },
     "execution_count": 8,
     "metadata": {},
     "output_type": "execute_result"
    }
   ],
   "source": [
    "sharpen=[]\n",
    "for i in range(0,shape[0]-2):\n",
    "    for j in range(0,shape[1]-2):\n",
    "        sharpen.append(im2[i][j]*kernel1[0][0]+im2[i][j+1]*kernel1[0][1]+im2[i][j+2]*kernel1[0][2]+\n",
    "                  im2[i+1][j]*kernel1[1][0]+im2[i+1][j+1]*kernel1[1][1]+im2[i+1][j+2]*kernel1[1][2]+\n",
    "                  im2[i+2][j]*kernel1[2][0]+im2[i+2][j+1]*kernel1[2][1]+im2[i+2][j+2]*kernel1[2][2])\n",
    "\n",
    "sharpen=np.array(sharpen)\n",
    "sharpen=sharpen.reshape(shape[0]-2,shape[1]-2)\n",
    "cv2.imshow(\"sharp image\",sharpen)\n",
    "cv2.waitKey(1)"
   ]
  },
  {
   "cell_type": "code",
   "execution_count": 9,
   "metadata": {},
   "outputs": [
    {
     "data": {
      "text/plain": [
       "-1"
      ]
     },
     "execution_count": 9,
     "metadata": {},
     "output_type": "execute_result"
    }
   ],
   "source": [
    "blur=[]\n",
    "for i in range(0,shape[0]-2):\n",
    "    for j in range(0,shape[1]-2):\n",
    "        blur.append(im2[i][j]*kernel2[0][0]+im2[i][j+1]*kernel2[0][1]+im2[i][j+2]*kernel2[0][2]+\n",
    "                  im2[i+1][j]*kernel2[1][0]+im2[i+1][j+1]*kernel2[1][1]+im2[i+1][j+2]*kernel2[1][2]+\n",
    "                  im2[i+2][j]*kernel2[2][0]+im2[i+2][j+1]*kernel2[2][1]+im2[i+2][j+2]*kernel2[2][2])\n",
    "\n",
    "blur=np.array(blur)\n",
    "blur=blur.reshape(shape[0]-2,shape[1]-2)\n",
    "cv2.imshow(\"blur image\",blur)\n",
    "cv2.waitKey(1)"
   ]
  },
  {
   "cell_type": "code",
   "execution_count": 10,
   "metadata": {},
   "outputs": [
    {
     "data": {
      "text/plain": [
       "-1"
      ]
     },
     "execution_count": 10,
     "metadata": {},
     "output_type": "execute_result"
    }
   ],
   "source": [
    "ed2=[]\n",
    "for i in range(0,shape[0]-2):\n",
    "    for j in range(0,shape[1]-2):\n",
    "        ed2.append(im2[i][j]*kernel3[0][0]+im2[i][j+1]*kernel3[0][1]+im2[i][j+2]*kernel3[0][2]+\n",
    "                  im2[i+1][j]*kernel3[1][0]+im2[i+1][j+1]*kernel3[1][1]+im2[i+1][j+2]*kernel3[1][2]+\n",
    "                  im2[i+2][j]*kernel3[2][0]+im2[i+2][j+1]*kernel3[2][1]+im2[i+2][j+2]*kernel3[2][2])\n",
    "\n",
    "ed2=np.array(ed2)\n",
    "ed2=ed2.reshape(shape[0]-2,shape[1]-2)\n",
    "cv2.imshow(\"convolve edgy2 image\",ed2)\n",
    "cv2.waitKey(1)"
   ]
  },
  {
   "cell_type": "code",
   "execution_count": null,
   "metadata": {},
   "outputs": [],
   "source": []
  },
  {
   "cell_type": "code",
   "execution_count": null,
   "metadata": {},
   "outputs": [],
   "source": []
  }
 ],
 "metadata": {
  "kernelspec": {
   "display_name": "Python 3",
   "language": "python",
   "name": "python3"
  },
  "language_info": {
   "codemirror_mode": {
    "name": "ipython",
    "version": 3
   },
   "file_extension": ".py",
   "mimetype": "text/x-python",
   "name": "python",
   "nbconvert_exporter": "python",
   "pygments_lexer": "ipython3",
   "version": "3.5.6"
  }
 },
 "nbformat": 4,
 "nbformat_minor": 2
}
